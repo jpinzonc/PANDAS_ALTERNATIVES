{
 "cells": [
  {
   "cell_type": "code",
   "execution_count": 7,
   "metadata": {},
   "outputs": [
    {
     "name": "stdout",
     "output_type": "stream",
     "text": [
      "####################################################################################################\n",
      "Generating data for the test\n",
      "####################################################################################################\n",
      "Creating directory for the dataasets\n",
      "####################################################################################################\n",
      "Creating directory Data for the dataasets\n",
      "####################################################################################################\n",
      "Downloading original dataset.\n",
      " url = https://data.wprdc.org/datastore/dump/2c13021f-74a9-4289-a1e5-fe0472c89881?bom=True\n",
      "####################################################################################################\n",
      "Generating dataframes with different sizes\n",
      "Dataframes shapes:\n",
      "\t Original: \t (228213, 191) \n",
      "\t Small: \t (22000, 191) \n",
      "\t Medium: \t (220000, 191) \n",
      "\t Large: \t (440000, 191)\n",
      "####################################################################################################\n",
      "Saving files to Data\n",
      "Calculating files size in MB\n",
      "Small (22K records, 13.84 MB), medium (220K records, 140.68 MB) and large (440K records, 281.36 MB) datasets created from https://data.wprdc.org/datastore/dump/2c13021f-74a9-4289-a1e5-fe0472c89881?bom=True in Data folder. \n",
      "Try running the Pandas Alternative Notebook(s) now\n",
      "####################################################################################################\n"
     ]
    }
   ],
   "source": [
    "exec(open(\"get_data.py\").read())"
   ]
  }
 ],
 "metadata": {
  "kernelspec": {
   "display_name": "morgage",
   "language": "python",
   "name": "python3"
  },
  "language_info": {
   "codemirror_mode": {
    "name": "ipython",
    "version": 3
   },
   "file_extension": ".py",
   "mimetype": "text/x-python",
   "name": "python",
   "nbconvert_exporter": "python",
   "pygments_lexer": "ipython3",
   "version": "3.12.2"
  }
 },
 "nbformat": 4,
 "nbformat_minor": 2
}
