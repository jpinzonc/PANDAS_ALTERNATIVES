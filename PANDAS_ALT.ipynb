{
 "cells": [
  {
   "cell_type": "markdown",
   "metadata": {},
   "source": [
    "# PANDAS ALTERNATIVES IN PYTHON\n",
    "\n",
    "System MAC \n",
    "\n",
    "Python 3.12.2\n",
    "____\n",
    "\n",
    "### __POLARS__:\n",
    "\n",
    "- Documentation \n",
    "\n",
    "    https://docs.pola.rs/py-polars/html/reference/dataframe/api/polars.DataFrame.clone.html\n",
    "\n",
    "- Installation\n",
    "\n",
    "    !pip install polars\n",
    "\n",
    "______ \n",
    "\n",
    "### __DATATABLE__:\n",
    "\n",
    "- Documentation \n",
    "\n",
    "    https://datatable.readthedocs.io/en/latest/\n",
    "\n",
    "\n",
    "- Installation \n",
    "\n",
    "    !pip install datatable\n",
    "\n",
    "____\n",
    "### __MODIN__:\n",
    "\n",
    "- Documentation \n",
    "\n",
    "    https://modin.readthedocs.io/en/stable/\n",
    "\n",
    "- Installation (with dask)\n",
    "\n",
    "    !pip install modin\n",
    "\n",
    "!   pip install \"dask[distributed]\" --upgrade\n",
    "\n",
    "- Set up (with dask)\n",
    "\n",
    "    import os\n",
    "\n",
    "    os.environ['MODIN_ENGINE'] = 'dask'\n",
    "\n",
    "    import modin.pandas as md\n",
    "____\n",
    "\n",
    "### __VAEX__:\n",
    "\n",
    "- Documentation \n",
    "\n",
    "    https://pypi.org/project/vaex/\n",
    "\n",
    "    It appears that at this point VAEX can not be installed in 3.12.2 on MAC\n",
    "\n",
    "    https://github.com/vaexio/vaex/issues/2397\n",
    "\n",
    "- Installation\n",
    "\n",
    "    !pip install vaex\n",
    "\n",
    "    or \n",
    "\n",
    "    !conda install -c conda-forge vaex\n",
    "\n",
    "_____\n",
    "________\n"
   ]
  },
  {
   "cell_type": "code",
   "execution_count": 1,
   "metadata": {},
   "outputs": [
    {
     "data": {
      "text/html": [
       "<style type='text/css'>\n",
       ".datatable table.frame { margin-bottom: 0; }\n",
       ".datatable table.frame thead { border-bottom: none; }\n",
       ".datatable table.frame tr.coltypes td {  color: #FFFFFF;  line-height: 6px;  padding: 0 0.5em;}\n",
       ".datatable .bool    { background: #DDDD99; }\n",
       ".datatable .object  { background: #565656; }\n",
       ".datatable .int     { background: #5D9E5D; }\n",
       ".datatable .float   { background: #4040CC; }\n",
       ".datatable .str     { background: #CC4040; }\n",
       ".datatable .time    { background: #40CC40; }\n",
       ".datatable .row_index {  background: var(--jp-border-color3);  border-right: 1px solid var(--jp-border-color0);  color: var(--jp-ui-font-color3);  font-size: 9px;}\n",
       ".datatable .frame tbody td { text-align: left; }\n",
       ".datatable .frame tr.coltypes .row_index {  background: var(--jp-border-color0);}\n",
       ".datatable th:nth-child(2) { padding-left: 12px; }\n",
       ".datatable .hellipsis {  color: var(--jp-cell-editor-border-color);}\n",
       ".datatable .vellipsis {  background: var(--jp-layout-color0);  color: var(--jp-cell-editor-border-color);}\n",
       ".datatable .na {  color: var(--jp-cell-editor-border-color);  font-size: 80%;}\n",
       ".datatable .sp {  opacity: 0.25;}\n",
       ".datatable .footer { font-size: 9px; }\n",
       ".datatable .frame_dimensions {  background: var(--jp-border-color3);  border-top: 1px solid var(--jp-border-color0);  color: var(--jp-ui-font-color3);  display: inline-block;  opacity: 0.6;  padding: 1px 10px 1px 5px;}\n",
       "</style>\n"
      ],
      "text/plain": [
       "<IPython.core.display.HTML object>"
      ]
     },
     "metadata": {},
     "output_type": "display_data"
    },
    {
     "name": "stdout",
     "output_type": "stream",
     "text": [
      "16\n"
     ]
    }
   ],
   "source": [
    "#python 3.12.2\n",
    "import polars as pl\n",
    "import datatable  as dt\n",
    "import os\n",
    "os.environ['MODIN_ENGINE'] = 'dask'\n",
    "import modin.pandas as md\n",
    "import modin\n",
    "print(modin.config.NPartitions.get())\n",
    "import pandas as pd\n",
    "import time\n",
    "import numpy as np\n",
    "from statistics import mean\n",
    "\n",
    "file = 'bicyclecrash_data.csv'"
   ]
  },
  {
   "cell_type": "markdown",
   "metadata": {},
   "source": [
    "pdf = pd.read_csv(file, low_memory = False )\n",
    "pdf.shape\n",
    "dtdf = dt.fread(file)\n",
    "dtdf.shape\n",
    "pldf = pl.read_csv(file, infer_schema_length=10000)\n",
    "pldf.shape\n",
    "mdf = md.read_csv(file)\n",
    "mdf.shape"
   ]
  },
  {
   "cell_type": "code",
   "execution_count": 2,
   "metadata": {},
   "outputs": [],
   "source": [
    "def exec_time(code_str):\n",
    "    start = time.time()\n",
    "    exec(code_str)\n",
    "    end = time.time()\n",
    "    return np.round((end-start)/60*1000, 6)\n",
    "\n",
    "def functiontiming(cmd_d, metr_nm, dictionary, loop = 10, add_cmd = None):\n",
    "    for key, cmd in cmd_d.items():\n",
    "        counter = 0\n",
    "        times = []\n",
    "        try: \n",
    "            while counter <= loop:\n",
    "                if add_cmd:\n",
    "                    new_cmd = add_cmd[key]\n",
    "                    exec_time(new_cmd)\n",
    "                r = exec_time(cmd)\n",
    "                times.append(r)\n",
    "\n",
    "                counter +=1\n",
    "            meant = np.round(mean(times), 6)\n",
    "        except Exception as E:\n",
    "            print(\"ERROR\\n\", str(E))\n",
    "            meant = np.nan\n",
    "        if metr_nm in dictionary:\n",
    "            dictionary[metr_nm].append({'METRIC':metr_nm, 'LIBRARY': key, 'TIME':meant, 'N':loop})\n",
    "        else: \n",
    "            dictionary[metr_nm] = [{'METRIC':metr_nm, 'LIBRARY': key, 'TIME':meant, 'N':loop}]\n",
    "        print(key, '\\t', meant, 'usec')       "
   ]
  },
  {
   "cell_type": "code",
   "execution_count": 3,
   "metadata": {},
   "outputs": [],
   "source": [
    "# exec_time('global dfdf ; dtdf = dt.fread(file)')\n",
    "# cmds = ['global dfdf ; dtdf = dt.fread(file)']\n",
    "# order = ['datatable']\n",
    "# metric = 'READ_CSV'\n",
    "# RESULTS = {}\n",
    "\n",
    "# functiontiming(cmds, order, metric, RESULTS)"
   ]
  },
  {
   "cell_type": "code",
   "execution_count": 4,
   "metadata": {},
   "outputs": [
    {
     "name": "stdout",
     "output_type": "stream",
     "text": [
      "datatable \t 1.554953 usec\n",
      "pandas \t 4.209381 usec\n",
      "polars \t 3.610338 usec\n"
     ]
    },
    {
     "name": "stderr",
     "output_type": "stream",
     "text": [
      "UserWarning: `read_*` implementation has mismatches with pandas:\n",
      "Data types of partitions are different! Please refer to the troubleshooting section of the Modin documentation to fix this issue.\n"
     ]
    },
    {
     "name": "stdout",
     "output_type": "stream",
     "text": [
      "modin \t 24.393529 usec\n"
     ]
    }
   ],
   "source": [
    "cmds = {\n",
    "        'datatable': 'global dtdf ; dtdf = dt.fread(file)',\n",
    "        'pandas': 'global pdf ; pdf = pd.read_csv(file, low_memory = False )',\n",
    "        'polars' : 'global pldf ; pldf = pl.read_csv(file, infer_schema_length=10000)',\n",
    "        'modin' : 'global mdf ; mdf = md.read_csv(file)'\n",
    "        }\n",
    "metric = 'READ_CSV'\n",
    "RESULTS = {}\n",
    "\n",
    "functiontiming(cmds, metric, RESULTS)"
   ]
  },
  {
   "cell_type": "code",
   "execution_count": 5,
   "metadata": {},
   "outputs": [
    {
     "name": "stdout",
     "output_type": "stream",
     "text": [
      "datatable \t 0.00109 usec\n",
      "pandas \t 0.1906 usec\n",
      "polars \t 0.001885 usec\n",
      "modin \t 0.009528 usec\n"
     ]
    }
   ],
   "source": [
    "cmds_copy = {\n",
    "        'datatable': 'global dtdf2 ; dtdf2 = dtdf.copy()',\n",
    "         'pandas': 'global pdf2 ; pdf2 = pdf.copy()',\n",
    "         'polars' : 'global pldf2 ; pldf2 = pldf.clone()',\n",
    "         'modin' : 'global mdf2 ; mdf2 = mdf.copy()'\n",
    "        }\n",
    "metric = 'CREATE COPY'\n",
    "functiontiming(cmds_copy, metric, RESULTS)"
   ]
  },
  {
   "cell_type": "code",
   "execution_count": 6,
   "metadata": {},
   "outputs": [
    {
     "name": "stdout",
     "output_type": "stream",
     "text": [
      "datatable \t 0.003587 usec\n",
      "pandas \t 0.153973 usec\n",
      "polars \t 0.025709 usec\n",
      "modin \t 0.189677 usec\n"
     ]
    }
   ],
   "source": [
    "cmds_col1 = {\n",
    "         'datatable': 'global dtdf2 ; dtdf2.names = {\"CRASH_CRN\":\"CRASH_CRNnew\"}',\n",
    "         'pandas': 'global pdf2 ; pdf2 = pdf2.rename(columns = {\"CRASH_CRN\":\"CRASH_CRNnew\"})',\n",
    "         'polars' : 'global pldf2 ; pldf2 = pldf2.rename({\"CRASH_CRN\":\"CRASH_CRNnew\"})',\n",
    "         'modin' : 'global mdf2 ; mdf2 = mdf2.rename(columns = {\"CRASH_CRN\":\"CRASH_CRNnew\"})'\n",
    "        }\n",
    "metric = 'RENAME SINGLE COLUMN'\n",
    "functiontiming(cmds_col1, metric, RESULTS, add_cmd = cmds_copy)"
   ]
  },
  {
   "cell_type": "code",
   "execution_count": 7,
   "metadata": {},
   "outputs": [
    {
     "name": "stdout",
     "output_type": "stream",
     "text": [
      "datatable \t 0.001281 usec\n"
     ]
    },
    {
     "name": "stdout",
     "output_type": "stream",
     "text": [
      "pandas \t 0.004169 usec\n",
      "polars \t 0.017889 usec\n",
      "modin \t 0.154212 usec\n"
     ]
    }
   ],
   "source": [
    "new_columns = [col+'NEW' for col in pdf.columns]\n",
    "new_colums_dict = {}\n",
    "for col in pdf.columns:\n",
    "    new_colums_dict[col] = col+'NEW'\n",
    "\n",
    "cmds_col_all = {\n",
    "         'datatable': 'global dtdf ; dtdf.names = new_columns',\n",
    "         'pandas'   : 'global pdf  ; pdf.columns = new_columns',\n",
    "         # For polars to work with no errors I had to create a new dataframe. I tested this in other platforms with no issues\n",
    "         'polars'   : 'global pldf3  ; pldf3 =  pldf.rename(new_colums_dict)',\n",
    "         'modin'    : 'global mdf  ; mdf = mdf.rename(columns = new_colums_dict)'\n",
    "        }\n",
    "metric = 'RENAME ALL COLUMNS'\n",
    "functiontiming(cmds_col_all, metric, RESULTS, add_cmd = cmds_copy)"
   ]
  },
  {
   "cell_type": "code",
   "execution_count": 8,
   "metadata": {},
   "outputs": [
    {
     "data": {
      "text/html": [
       "<div>\n",
       "<style scoped>\n",
       "    .dataframe tbody tr th:only-of-type {\n",
       "        vertical-align: middle;\n",
       "    }\n",
       "\n",
       "    .dataframe tbody tr th {\n",
       "        vertical-align: top;\n",
       "    }\n",
       "\n",
       "    .dataframe thead th {\n",
       "        text-align: right;\n",
       "    }\n",
       "</style>\n",
       "<table border=\"1\" class=\"dataframe\">\n",
       "  <thead>\n",
       "    <tr style=\"text-align: right;\">\n",
       "      <th></th>\n",
       "      <th>METRIC</th>\n",
       "      <th>LIBRARY</th>\n",
       "      <th>TIME</th>\n",
       "      <th>N</th>\n",
       "    </tr>\n",
       "  </thead>\n",
       "  <tbody>\n",
       "    <tr>\n",
       "      <th>0</th>\n",
       "      <td>READ_CSV</td>\n",
       "      <td>datatable</td>\n",
       "      <td>1.554953</td>\n",
       "      <td>10</td>\n",
       "    </tr>\n",
       "    <tr>\n",
       "      <th>1</th>\n",
       "      <td>READ_CSV</td>\n",
       "      <td>pandas</td>\n",
       "      <td>4.209381</td>\n",
       "      <td>10</td>\n",
       "    </tr>\n",
       "    <tr>\n",
       "      <th>2</th>\n",
       "      <td>READ_CSV</td>\n",
       "      <td>polars</td>\n",
       "      <td>3.610338</td>\n",
       "      <td>10</td>\n",
       "    </tr>\n",
       "    <tr>\n",
       "      <th>3</th>\n",
       "      <td>READ_CSV</td>\n",
       "      <td>modin</td>\n",
       "      <td>24.393529</td>\n",
       "      <td>10</td>\n",
       "    </tr>\n",
       "    <tr>\n",
       "      <th>0</th>\n",
       "      <td>CREATE COPY</td>\n",
       "      <td>datatable</td>\n",
       "      <td>0.001090</td>\n",
       "      <td>10</td>\n",
       "    </tr>\n",
       "    <tr>\n",
       "      <th>1</th>\n",
       "      <td>CREATE COPY</td>\n",
       "      <td>pandas</td>\n",
       "      <td>0.190600</td>\n",
       "      <td>10</td>\n",
       "    </tr>\n",
       "    <tr>\n",
       "      <th>2</th>\n",
       "      <td>CREATE COPY</td>\n",
       "      <td>polars</td>\n",
       "      <td>0.001885</td>\n",
       "      <td>10</td>\n",
       "    </tr>\n",
       "    <tr>\n",
       "      <th>3</th>\n",
       "      <td>CREATE COPY</td>\n",
       "      <td>modin</td>\n",
       "      <td>0.009528</td>\n",
       "      <td>10</td>\n",
       "    </tr>\n",
       "    <tr>\n",
       "      <th>0</th>\n",
       "      <td>RENAME SINGLE COLUMN</td>\n",
       "      <td>datatable</td>\n",
       "      <td>0.003587</td>\n",
       "      <td>10</td>\n",
       "    </tr>\n",
       "    <tr>\n",
       "      <th>1</th>\n",
       "      <td>RENAME SINGLE COLUMN</td>\n",
       "      <td>pandas</td>\n",
       "      <td>0.153973</td>\n",
       "      <td>10</td>\n",
       "    </tr>\n",
       "    <tr>\n",
       "      <th>2</th>\n",
       "      <td>RENAME SINGLE COLUMN</td>\n",
       "      <td>polars</td>\n",
       "      <td>0.025709</td>\n",
       "      <td>10</td>\n",
       "    </tr>\n",
       "    <tr>\n",
       "      <th>3</th>\n",
       "      <td>RENAME SINGLE COLUMN</td>\n",
       "      <td>modin</td>\n",
       "      <td>0.189677</td>\n",
       "      <td>10</td>\n",
       "    </tr>\n",
       "    <tr>\n",
       "      <th>0</th>\n",
       "      <td>RENAME ALL COLUMNS</td>\n",
       "      <td>datatable</td>\n",
       "      <td>0.001281</td>\n",
       "      <td>10</td>\n",
       "    </tr>\n",
       "    <tr>\n",
       "      <th>1</th>\n",
       "      <td>RENAME ALL COLUMNS</td>\n",
       "      <td>pandas</td>\n",
       "      <td>0.004169</td>\n",
       "      <td>10</td>\n",
       "    </tr>\n",
       "    <tr>\n",
       "      <th>2</th>\n",
       "      <td>RENAME ALL COLUMNS</td>\n",
       "      <td>polars</td>\n",
       "      <td>0.017889</td>\n",
       "      <td>10</td>\n",
       "    </tr>\n",
       "    <tr>\n",
       "      <th>3</th>\n",
       "      <td>RENAME ALL COLUMNS</td>\n",
       "      <td>modin</td>\n",
       "      <td>0.154212</td>\n",
       "      <td>10</td>\n",
       "    </tr>\n",
       "  </tbody>\n",
       "</table>\n",
       "</div>"
      ],
      "text/plain": [
       "                 METRIC    LIBRARY       TIME   N\n",
       "0              READ_CSV  datatable   1.554953  10\n",
       "1              READ_CSV     pandas   4.209381  10\n",
       "2              READ_CSV     polars   3.610338  10\n",
       "3              READ_CSV      modin  24.393529  10\n",
       "0           CREATE COPY  datatable   0.001090  10\n",
       "1           CREATE COPY     pandas   0.190600  10\n",
       "2           CREATE COPY     polars   0.001885  10\n",
       "3           CREATE COPY      modin   0.009528  10\n",
       "0  RENAME SINGLE COLUMN  datatable   0.003587  10\n",
       "1  RENAME SINGLE COLUMN     pandas   0.153973  10\n",
       "2  RENAME SINGLE COLUMN     polars   0.025709  10\n",
       "3  RENAME SINGLE COLUMN      modin   0.189677  10\n",
       "0    RENAME ALL COLUMNS  datatable   0.001281  10\n",
       "1    RENAME ALL COLUMNS     pandas   0.004169  10\n",
       "2    RENAME ALL COLUMNS     polars   0.017889  10\n",
       "3    RENAME ALL COLUMNS      modin   0.154212  10"
      ]
     },
     "execution_count": 8,
     "metadata": {},
     "output_type": "execute_result"
    }
   ],
   "source": [
    "RESULTS_DF = pd.DataFrame()\n",
    "for k, v in RESULTS.items(): \n",
    "    df = pd.DataFrame(v)\n",
    "    RESULTS_DF = pd.concat([RESULTS_DF, df], axis = 0)\n",
    "RESULTS_DF"
   ]
  },
  {
   "cell_type": "code",
   "execution_count": null,
   "metadata": {},
   "outputs": [],
   "source": []
  }
 ],
 "metadata": {
  "kernelspec": {
   "display_name": "morgage",
   "language": "python",
   "name": "python3"
  },
  "language_info": {
   "codemirror_mode": {
    "name": "ipython",
    "version": 3
   },
   "file_extension": ".py",
   "mimetype": "text/x-python",
   "name": "python",
   "nbconvert_exporter": "python",
   "pygments_lexer": "ipython3",
   "version": "3.12.2"
  }
 },
 "nbformat": 4,
 "nbformat_minor": 2
}
